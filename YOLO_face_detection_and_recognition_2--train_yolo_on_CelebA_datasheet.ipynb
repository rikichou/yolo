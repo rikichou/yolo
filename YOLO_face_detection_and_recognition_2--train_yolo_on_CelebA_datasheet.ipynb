{
 "cells": [
  {
   "cell_type": "markdown",
   "metadata": {},
   "source": [
    "# 1. 剧情回顾\n",
    "\n",
    "在上一个[notebook](https://github.com/rikichou/yolo/blob/master/YOLO_face_detection_and_recognition_1--first_sight_of_darknet.ipynb)中，我简要介绍了darknet，它是一个使用C语言实现的深度学习框架，里面提供了YOLO模型的配置文件以及预训练权重，我们可以轻易地通过几行命令就能够实现目标检测。但是假如我们想用自己的数据搭建一个YOLO目标检测模型的话，改怎么做呢？也就是说，我们要利用darknet在我们自己提供的数据上，对YOLO模型进行训练，改怎么做？其实，[darknet](https://pjreddie.com/darknet/yolov2/)官网已经提供了相应的例子来说明如何训练\n",
    "\n",
    "× 注意：我所说的YOLO其实是YOLOV2"
   ]
  },
  {
   "cell_type": "markdown",
   "metadata": {},
   "source": [
    "# 2.VOC数据集\n",
    "\n",
    "严格地说应该叫[Pascal VOC](http://host.robots.ox.ac.uk/pascal/VOC/)数据集，该数据集是一个用于构建图片分类，目标检测，图片分割的数据集。2005--2012年，每年都会举办Pascal VOC挑战赛，在2012年，由于VOC项目的重要成员Mark Everingham去世，所以该比赛就停止了。\n",
    "\n",
    "该数据集包含了用于目标检测的图片数据以及相应的annotations信息，其中该数据集包含20个类别检测对象。我们将利用2007年和2012年的数据集对YOLO模型进行重新训练。\n",
    "\n",
    "darknet官网很人性化地提供了VOC数据集的[下载链接](https://pjreddie.com/projects/pascal-voc-dataset-mirror/)，首先进入darknet目录，然后通过以下命令可以直接下载数据集并解压到当前目录："
   ]
  },
  {
   "cell_type": "markdown",
   "metadata": {},
   "source": [
    "    wget https://pjreddie.com/media/files/VOCtrainval_11-May-2012.tar\n",
    "    wget https://pjreddie.com/media/files/VOCtrainval_06-Nov-2007.tar\n",
    "    wget https://pjreddie.com/media/files/VOCtest_06-Nov-2007.tar\n",
    "    \n",
    "    tar xf VOCtrainval_11-May-2012.tar\n",
    "    tar xf VOCtrainval_06-Nov-2007.tar\n",
    "    tar xf VOCtest_06-Nov-2007.tar"
   ]
  },
  {
   "cell_type": "markdown",
   "metadata": {},
   "source": [
    "说明：首先建议用迅雷下载，用wget或者自带浏览器下载比较慢。另外，如果你是在云服务器上进行训练的话，那就只能用wget下载了，此时不建议在darknet网站下载此数据，建议直接在Pascal VOC的比赛官网下载2007和2012的对应的那三个文件，速度很快。"
   ]
  },
  {
   "cell_type": "markdown",
   "metadata": {},
   "source": [
    "## 2.1 了解数据\n",
    "\n",
    "数据集解压之后，数据的结构大概如下：\n",
    "\n",
    "--|VOCdevkit  \n",
    "--|-----VOC2007  \n",
    "--|----------Annotations  \n",
    "--|----------ImageSets  \n",
    "--|---------------Main  \n",
    "--|----------JPEGImages  \n",
    "--|----------SegmentationClass  \n",
    "--|----------SegmentationObject  \n",
    "--|-----VOC2012  \n",
    "--|----- .  \n",
    "--|----- .  \n",
    "--|----- .  \n",
    "\n",
    "VOC2007和VOC2012就是我们解压的两个之后的数据集文件夹，他们两个的目录结构完全一致。接下来我们来说说我们需要了解的文件。\n",
    "\n",
    "Annotations文件夹包含了M个xml文件，M表示图片的数量。这些xml文件里面包含了图片的基本信息，比如图片的大小，以及图片中包含的目标，目标的bounding box，目标的类别等等信息，这些信息在我们训练的时候需要用到。\n",
    "\n",
    "ImageSets文件夹里面我们只关心Main文件夹，Main文件夹里面都是txt文件，每个txt文件都包含了对应的数据集中每个图片的ID。比如train.txt文件中包含了训练集的图片的ID。\n",
    "\n",
    "JPEGImages文件夹里面包含了我们真正的图片数据\n",
    "\n",
    "剩下的两个文件夹是关于图片分割的内容，我们也不关心"
   ]
  },
  {
   "cell_type": "markdown",
   "metadata": {},
   "source": [
    "# 3 训练\n",
    "\n",
    "了解了数据之后我们就可以开始按照官网上的教程进行训练流程了。开始训练之前，还需要做一件事情就是训练数据的标签提取"
   ]
  },
  {
   "cell_type": "markdown",
   "metadata": {},
   "source": [
    "## 3.1 label提取\n",
    "\n",
    "因为我们是使用darknet来训练YOLO，所以我们需要将数据集的label转换为darknet希望的形式。darknet希望为每一张图片都建立一个对应的txt文件来表示一张图片的信息，该信息的格式如何：\n",
    "\n",
    "    <object-class> <x> <y> <width> <height>\n",
    "    \n",
    "object-class为对象的类别，voc数据集可能有多个类别。  \n",
    "x为对象（bounding box）的中心点横坐标  \n",
    "y为对象（bounding box）的中心店的纵坐标  \n",
    "width为对象（bounding box）的宽度\n",
    "hight为对象（bounding box）的高度  \n",
    "\n",
    "其中在TXT文件中，每一行代表一个bounding box的信息，如果一张图片有多个对象，那么对应地就会有多行类似上面的数据\n",
    "\n",
    "注意：以上的计算都是以图片左上角为坐标原点(0, 0)，图片右下角为坐标(1, 1)，所以以上的取值都在[0,  1]之间"
   ]
  },
  {
   "cell_type": "markdown",
   "metadata": {},
   "source": [
    "那么清楚了格式之后如何来提取呢？其实，darknet早就帮我我们写好了提取label的脚本了，我已我们只需要下载脚本，运行脚本就好了。"
   ]
  },
  {
   "cell_type": "markdown",
   "metadata": {},
   "source": [
    "wget https://pjreddie.com/media/files/voc_label.py\n",
    "\n",
    "python voc_label.py"
   ]
  },
  {
   "cell_type": "markdown",
   "metadata": {},
   "source": [
    "运行结束之后，在darknet目录下生成了多个TXT文件(2007_train.txt 2007_test.txt 2007_val.txt 2012_train.txt 2012_val.txt)，这些TXT文件包含了对应数据集的中每张图片的绝对路径。\n",
    "\n",
    "另外，我们会发现在我们每个数据集的目录下（比如darknet/VOCdevkit/VOC2007/labels）多了一个labels文件夹，改文件夹里面包含了许多TXT文件，这些TXT文件就是我们需要的每张图片的label信息。"
   ]
  },
  {
   "cell_type": "markdown",
   "metadata": {},
   "source": [
    "紧接着，因为我们要将2007_train.txt 2007_val.txt 2012_train.txt 2012_val.txt等文件中表示的图片作为训练集了训练YOLO模型，所以我们把这些TXT文件合并成一个大的TXT文件传输给darknet"
   ]
  },
  {
   "cell_type": "markdown",
   "metadata": {},
   "source": [
    "cat 2007_train.txt 2007_val.txt 2012_*.txt > train.txt"
   ]
  },
  {
   "cell_type": "markdown",
   "metadata": {},
   "source": [
    "## 3.2 建立配置文件\n",
    "\n",
    "在使用darknet训练YOLO模型的时候，我们需要建立配置文件来告诉darknet数据集的信息。这些信息包括\n",
    "\n",
    "1， 该数据集一共含有多少类对象  \n",
    "2， 该数据集每一类对象的名字  \n",
    "3， 包含训练集图片的绝对路径的TXT文件在哪儿  \n",
    "4， 包含验证集图片的绝对路径的TXT文件在哪儿\n",
    "\n",
    "darknet已经有了该配置文件cfg/voc.data，我们只需要做适当的修改就好了。"
   ]
  },
  {
   "cell_type": "markdown",
   "metadata": {},
   "source": [
    "classes= 20  \n",
    "train  = train.txt  \n",
    "valid  = 2007_test.txt  \n",
    "names = data/voc.names  \n",
    "backup = backup  "
   ]
  },
  {
   "cell_type": "markdown",
   "metadata": {},
   "source": [
    "因为我的TXT文件都生成在了darknet的目录里面，所以直接写相对路径就好了"
   ]
  },
  {
   "cell_type": "markdown",
   "metadata": {},
   "source": [
    "## 3.3 下载预训练权重\n",
    "\n",
    "YOLOV2的论文中，在对YOLO的目标检测模型进行训练之前，将YOLO作为分类模型在ImagNet数据集上进行了预训练，训练的具体参数在这里不提，感兴趣的可以去看看论文。\n",
    "\n",
    "为什么要这样做呢？我们知道图片数据的基本结构都是很相似的，都是由一些边缘组成基本形状然后再组成抽象的物体，也就是说对于图片的很多特征，特别是底层的特征，我们是可以共享的。既然如此，我就可以先让YOLO在大数据集（imagenet）中学习到一些通用的“知识”（表现为卷积层权重），然后再将这些“知识”作为训练目标检测模型的初始权重，那么这样就可以以这些“知识”为基础进行学习，大大提升了学习的效率，这就是我们所说的迁移学习！\n",
    "\n",
    "所以我们可以将YOLO模型作为分类模型在imagenet上的1000类的庞大数据集中进行与训练，然后再将这些权重作为初始权重来进行目标检测的学习。当然，我肯定不会去做这个预训练的步骤，感兴趣的朋友可以去论文中获取具体训练的细节。\n",
    "\n",
    "darknet支持支持在训练的时候载入预训练权重，所以我们只需要下载该权重即可，darknet提供了该权重的下载"
   ]
  },
  {
   "cell_type": "markdown",
   "metadata": {},
   "source": [
    "wget https://pjreddie.com/media/files/darknet19_448.conv.23"
   ]
  },
  {
   "cell_type": "markdown",
   "metadata": {},
   "source": [
    "## 3.4 修改要训练的YOLOV2模型的配置文件\n",
    "\n",
    "之前在3.2节中我们修改的是关于数据的配置文件，现在我们需要修改的是模型的配置文件，我们使用的模型是yolov2，所以对应地在cfg/yolov2-voc.cfg文件中就包含了该模型的配置信息以及训练该模型的参数信息，这里我们仅仅需要修改一个batch size参数就好了。"
   ]
  },
  {
   "cell_type": "markdown",
   "metadata": {},
   "source": [
    "这里我们将cfg/yolov2-voc.cfg文件中前几行改为如下形式就好了\n",
    "\n",
    "    [net]\n",
    "    # Testing\n",
    "    # batch=1\n",
    "    # subdivisions=1\n",
    "    # Training\n",
    "    batch=64\n",
    "    subdivisions=8"
   ]
  },
  {
   "cell_type": "markdown",
   "metadata": {},
   "source": [
    "注意官网并没有提及3.4这一步，如果没有进行这一步，那么我们的样本训练的batch size将会是1，这个batch size是在预测的时候使用的，这样在训练了大约6000张图片后，你就会发现你的IOU和其他一些训练的调试信息将会变成NaN,就是这个参数造成的。"
   ]
  },
  {
   "cell_type": "markdown",
   "metadata": {},
   "source": [
    "## 3.5 训练\n",
    "\n",
    "现在一切准备就绪，可以开始训练了，其实训练就一句话"
   ]
  },
  {
   "cell_type": "markdown",
   "metadata": {},
   "source": [
    "./darknet detector train cfg/voc.data cfg/yolov2-voc.cfg darknet19_448.conv.23"
   ]
  },
  {
   "cell_type": "markdown",
   "metadata": {},
   "source": [
    "    train:代表我们现在进行的是训练\n",
    "    cfg/voc.data：是本次训练的配置文件\n",
    "    cfg/yolov2-voc.cfg：这是YOLOV2模型的配置文件\n",
    "    darknet19_448.conv.23：这是YOLO模型的预训练权重"
   ]
  },
  {
   "cell_type": "markdown",
   "metadata": {},
   "source": [
    "在这里我声明一下，我开始训练的时候使用的是我自己的主机上进行训练的，我的机器配置是GTX 960 GPU，2GB显存，不出意外地，训练过程中，直接报了类似“out of memory”之类的信息，即使把batch size调整到16，训练大概不到300个batch的时候也会报错，所以我直接放弃在本地训练该项目的想法。\n",
    "\n",
    "这里我推荐一个[亚马逊EC2云服务器](https://amazonaws-china.com/cn/ec2/?hp=tile&so-exp=below)，可以在上面租用云服务器进行模型的训练，价格相对国内的阿里云或者腾讯云更便宜。只不过你需要准备一张普通信用卡，而且用完了服务器之后一定要关闭，具体的细节在这里就不介绍了，感兴趣的可以看此[教程](https://zhuanlan.zhihu.com/p/33173963?utm_source=wechat_session&utm_medium=social)。EC2的缺点就是使用和申请提升实例限制比较繁琐，如果嫌麻烦的同学可以试试阿里云或者腾讯云，比EC2方便！\n",
    "\n",
    "这里我使用的是EC2中的p2.xlarge云服务器，GPU为Tesla K80，12GB显存，足够应付本次训练。"
   ]
  },
  {
   "cell_type": "markdown",
   "metadata": {},
   "source": [
    "在训练的过程中，要注意观察输出的打印信息，如果发现很多参数都是nan的话那就可能是你的模型配置文件没有配置好，比如batch size不对，或者learning rate过高（这是在使用自己的数据集进行训练的情况下，一般voc数据集就使用默认的配置就好，但是也要执行3.4步的修改才行）"
   ]
  },
  {
   "cell_type": "markdown",
   "metadata": {},
   "source": [
    "# 4 人脸检测模型的训练\n",
    "\n"
   ]
  },
  {
   "cell_type": "markdown",
   "metadata": {},
   "source": [
    "好像到目前为止，我们的操作有点儿偏题了，不是说好了在人脸数据上进行训练么？其实刚才只是为了让我们更熟悉使用darknet进行训练的流程，现在我们就选择一个人脸数据集进行训练。我们选择的是著名的人脸检测数据集：[CelebA](http://mmlab.ie.cuhk.edu.hk/projects/CelebA.html)"
   ]
  },
  {
   "cell_type": "markdown",
   "metadata": {},
   "source": [
    "## 4.1 更改模型配置文件\n",
    "\n"
   ]
  },
  {
   "cell_type": "markdown",
   "metadata": {},
   "source": [
    "虽然我们依旧使用YOLOV2的模型进行训练，但是现在任务以及数据集确改变了，此时我们不再检测VOC数据集的20个类别的目标，我们只检测1个类别：是否是人脸，所以现在需要对yolov2-voc.cfg文件进行修改，这里我们拷贝yolov2-voc.cfg为yolov2-celeba.cfg，下面对yolov2-celeba.cfg进行修改"
   ]
  },
  {
   "cell_type": "markdown",
   "metadata": {},
   "source": [
    "    1.batch=64 subdivisions=8"
   ]
  },
  {
   "cell_type": "markdown",
   "metadata": {},
   "source": [
    "    2.classes=20改为classes=1"
   ]
  },
  {
   "cell_type": "markdown",
   "metadata": {},
   "source": [
    "    3.将237行的filters=125改为filters=30，30是这样算出来的(类别数量 + 5) * anchor数量 = 30，其中5代表的是xywh坐标以及class类标签"
   ]
  },
  {
   "cell_type": "markdown",
   "metadata": {},
   "source": [
    "另外，在配置[region]里面的anchors参数表示anchors大小，这个和具体的数据集相关，因为我们训练的数据集是CelebA,所以不能够使用VOC的anchors，我们需要在CelebA数据集上使用k-means聚类算法来得出anchors的大小。具体的做法在4.3.5中。"
   ]
  },
  {
   "cell_type": "markdown",
   "metadata": {},
   "source": [
    "## 4.2 创建类别名称文件"
   ]
  },
  {
   "cell_type": "markdown",
   "metadata": {},
   "source": [
    "之前我们的voc.names里面包含了每一类别对象的名称，虽然现在只有一个类别，但是也应该指定名称，我们现在再data目录下创建一个celeba.names，里面只有一行内容，就是face。"
   ]
  },
  {
   "cell_type": "markdown",
   "metadata": {},
   "source": [
    "## 4.3 创建数据集相关的文件"
   ]
  },
  {
   "cell_type": "markdown",
   "metadata": {},
   "source": [
    "在3.1节中，我们利用voc_label.py这个脚本创建了关于数据集路径的TXT文件，而且还为每张图片创建了关于图片对象的bounding box信息的TXT文件。但是这里我们使用不同的数据集，这个脚本就用不上了，我们需要自己写程序来完成类似的功能。"
   ]
  },
  {
   "cell_type": "markdown",
   "metadata": {},
   "source": [
    "### 4.3.1 了解数据集"
   ]
  },
  {
   "cell_type": "markdown",
   "metadata": {},
   "source": [
    "在做上述的这一切之前，让我们来了解了解我们将要使用的数据集。\n",
    "\n",
    "[CelebA](http://mmlab.ie.cuhk.edu.hk/projects/CelebA.html)是一个大规模人脸属性数据集，其拥有超过20W张名人的图像（貌似没看到亚洲人？），每张图片拥有40个属性标注，比如是否戴眼镜，是否微笑，是否戴帽子等等，当然还有我们需要的bounding box的标注。该数据集中的图像中的人物摆出了不同角度的姿势，并且图像拥有 复杂的背景。更准确地，该数据集拥有10177个名人的202599张脸部图像，每张图像拥有5个脸部位置标记以及40个二值属性。"
   ]
  },
  {
   "cell_type": "markdown",
   "metadata": {},
   "source": [
    "官网的下载链接已经无法使用了，但是官网给出了另外两个下载链接，一个是[百度云盘](https://pan.baidu.com/s/1eSNpdRG#list/path=%2F)，一个是[谷歌云盘](https://drive.google.com/drive/folders/0B7EVK8r0v71pWEZsZE9oNnFzTm8)，我是从百度云盘下载的，不知道什么原因，谷歌云盘的下载下来的文件丢失了许多！\n",
    "\n",
    "在文件下载下来了以后，我们会发现文件呈现如下的结构：\n",
    "\n",
    "|----CelebA  \n",
    "|　　｜----Img  \n",
    "|　　｜　　｜----img_celeba.7z  \n",
    "|　　｜----Eval  \n",
    "|　　｜　　｜----list_eval_partition.txt  \n",
    "|　　｜----Anno  \n",
    "|　　｜　　｜----list_bbox_celeba.txt  \n",
    "\n",
    "\n",
    "其中Img目录为存放图片的目录，里面包含了三个文件。第一个文件夹是img_celeba.7z，里面是原始的训练集图片，这就是我们做人脸检测的数据集。第二个文件是img_align_celeba.zip，从名字可以看出，这里面包含了在原始图片上进行裁剪的图片，只有一个大头，这种数据适合用于做人脸识别。第三个文件夹是img_align_celeba，这个文件夹里面的图片其实和第二个文件里的一样，只不过这个文件夹里的图片格式是png，更清晰！所以这里我们只关心img_celeba.7z文件夹，请自行将其解压缩。\n",
    "\n",
    "在Eval中，list_eval_partition.txt文件已经为我们划分好了0--训练集，1--验证集，2--测试集\n",
    "\n",
    "在Anno中，list_bbox_celeba.txt文件包含了每一张图片的bounding box，该bounding box的表示方法是box左上角的坐标x,y以及该box的宽度高度w,h。\n",
    "\n",
    "由于我们并不需要所有的数据，所以我现在要将刚才解压出来的部分数据拷贝出来用于darknet的训练。（我假装你就是在darknet目录下加压出CelebA的）\n",
    "\n",
    "假设当前目录是darknet目录，我们创建一个celeba目录，并且仿造VOC目录结构，在celeba目录下创建一个labels目录和JPEGImages目录，现在要做的就是将所有位于./darknet/CelebA/Img/img_celeba中的图片拷贝（我使用的软链接，节约空间）到./darknet/celeba/JPEGImages目录下。那么此时我们的darknet的目录结构大概如下：\n",
    "\n",
    "|----darknet  \n",
    "|　　｜----CelebA  \n",
    "|　　｜　　｜----Img  \n",
    "|　　｜　　｜----Eval  \n",
    "|　　｜　　｜----Anno  \n",
    "|　　｜----celeba  \n",
    "|　　｜　　｜----JPEGImages   \n",
    "|　　｜　　｜----labels  \n",
    "|----yolo  \n",
    "|　　｜----YOLO_face_detection_and_recognition_2--train_yolo_on_CelebA_datasheet.ipynb  \n",
    "\n",
    "我们待会儿在4.4节会解释为什么需要将我们的数据存放在celeba目录中。\n",
    "\n",
    "(有必要说明一下，本notebook文件存放的目录就是上图中的yolo目录下)"
   ]
  },
  {
   "cell_type": "code",
   "execution_count": 1,
   "metadata": {
    "collapsed": true
   },
   "outputs": [],
   "source": [
    "import os\n",
    "import shutil\n",
    "\n",
    "proj_dir = os.path.dirname(os.getcwd())\n",
    "darknet_dir =  proj_dir + \"/darknet\"\n",
    "bbox_path = darknet_dir + '/celeba/list_bbox_celeba.txt'\n",
    "eval_path = darknet_dir + '/celeba/list_eval_partition.txt'\n",
    "\n",
    "if not os.path.isdir(darknet_dir+\"/celeba\"):\n",
    "    \n",
    "    print (\"Now to create data dir to compatible with darknet\")\n",
    "    \n",
    "    os.makedirs(darknet_dir+\"/celeba/JPEGImages\")\n",
    "    os.makedirs(darknet_dir+\"/celeba/labels\")\n",
    "    \n",
    "    ## copy the txt file\n",
    "    shutil.copyfile(darknet_dir+\"/CelebA/Anno/list_bbox_celeba.txt\",bbox_path)\n",
    "    shutil.copyfile(darknet_dir+\"/CelebA/Eval/list_eval_partition.txt\",bbox_path)\n",
    "    \n",
    "    ## create link from source image data\n",
    "    filenames = os.listdir(darknet_dir+\"/CelebA/Img/img_celeba.7z/img_celeba\")\n",
    "    \n",
    "    for name in filenames:\n",
    "        os.symlink(darknet_dir+\"/CelebA/Img/img_celeba.7z/img_celeba/\"+name, darknet_dir+\"/celeba/JPEGImages/\"+name)"
   ]
  },
  {
   "cell_type": "markdown",
   "metadata": {},
   "source": [
    "### 4.3.2 可视化\n",
    "\n",
    "下面来简单地可视化一下，了解了解我们的数据是什么样子的。"
   ]
  },
  {
   "cell_type": "code",
   "execution_count": 33,
   "metadata": {},
   "outputs": [
    {
     "name": "stdout",
     "output_type": "stream",
     "text": [
      "126 22 130 180\n"
     ]
    },
    {
     "data": {
      "image/png": "[encoded data removed]",
      "text/plain": [
       "<matplotlib.figure.Figure at 0x7f98c0bb3cf8>"
      ]
     },
     "metadata": {},
     "output_type": "display_data"
    }
   ],
   "source": [
    "import matplotlib.pyplot as plt\n",
    "import cv2\n",
    "import numpy as np\n",
    "%matplotlib inline\n",
    "\n",
    "\n",
    "## read bounding box\n",
    "img_bbox = {}\n",
    "with open(darknet_dir+\"/CelebA/Anno/list_bbox_celeba.txt\") as f:\n",
    "    lines = f.readlines()\n",
    "    lines=lines[2:]\n",
    "    \n",
    "    line = lines[np.random.randint(len(lines))].strip().split()\n",
    "    \n",
    "    img_bbox[\"name\"] = line[0]\n",
    "    img_bbox[\"x\"] = int(line[1])\n",
    "    img_bbox[\"y\"] = int(line[2])\n",
    "    img_bbox[\"w\"] = int(line[3])\n",
    "    img_bbox[\"h\"] = int(line[4])\n",
    "    \n",
    "## read image\n",
    "img_path = darknet_dir+\"/CelebA/Img/img_celeba.7z/img_celeba/\" + img_bbox[\"name\"]\n",
    "img = cv2.imread(img_path)\n",
    "img = cv2.cvtColor(img,cv2.COLOR_BGR2RGB)\n",
    "(img_h, img_2) = img.shape[0:2]\n",
    "\n",
    "print (img_bbox[\"x\"], img_bbox[\"y\"], img_bbox[\"w\"], img_bbox[\"h\"])\n",
    "## display\n",
    "cv2.rectangle(img,(img_bbox[\"x\"],img_bbox[\"y\"]),(img_bbox[\"x\"]+img_bbox[\"w\"],img_bbox[\"y\"]+img_bbox[\"h\"]),(255,0,0),3)\n",
    "\n",
    "plt.imshow(img)\n",
    "plt.axis(\"off\")\n",
    "plt.title(img_bbox[\"name\"])\n",
    "plt.show()"
   ]
  },
  {
   "cell_type": "markdown",
   "metadata": {},
   "source": [
    "### 4.3.3 训练集测试集验证集划分\n",
    "\n",
    "其实就是生成train.txt  val.txt  test.txt,根据前面的描述，list_eval_partition.txt这个文件中已经分配好了这些，0代表训练集，1代表验证集，2代表测试集。"
   ]
  },
  {
   "cell_type": "code",
   "execution_count": 3,
   "metadata": {},
   "outputs": [
    {
     "name": "stdout",
     "output_type": "stream",
     "text": [
      "train 162770, validation 19867, test 19962\n"
     ]
    }
   ],
   "source": [
    "train_txt = darknet_dir + '/celeba/train.txt'\n",
    "val_txt = darknet_dir + '/celeba/val.txt'\n",
    "test_txt = darknet_dir + '/celeba/test.txt'\n",
    "\n",
    "train_p = open(train_txt, \"w\")\n",
    "val_p = open(val_txt, \"w\")\n",
    "test_p = open(test_txt, \"w\")\n",
    "\n",
    "with open(eval_path) as p:\n",
    "    lines = p.readlines()\n",
    "    t = 0\n",
    "    v = 0\n",
    "    e = 0\n",
    "    for line in lines:\n",
    "        items = line.strip().split()\n",
    "        img_path = darknet_dir+\"/celeba/JPEGImages/\" + items[0] + '\\n'\n",
    "        img_type = int(items[1])\n",
    "        \n",
    "        if img_type == 0:\n",
    "            train_p.write(img_path)\n",
    "            t += 1\n",
    "        elif img_type == 1:\n",
    "            val_p.write(img_path)\n",
    "            v += 1\n",
    "        else:\n",
    "            test_p.write(img_path)\n",
    "            e += 1\n",
    "    print (\"train {}, validation {}, test {}\".format(t, v, e))\n",
    "\n",
    "train_p.close()\n",
    "val_p.close()\n",
    "test_p.close()"
   ]
  },
  {
   "cell_type": "markdown",
   "metadata": {},
   "source": [
    "### 4.3.4 生成每张图片对应的label\n",
    "\n",
    "darknet需要为每一张图片都建立一个txt文件，该文件描述了该张图片的bounding box的情况以及类别（我们只有一类，所以为0就好），这里我们来创建这些txt文件，并将其放入labels文件夹。"
   ]
  },
  {
   "cell_type": "code",
   "execution_count": 4,
   "metadata": {
    "collapsed": true
   },
   "outputs": [],
   "source": [
    "labels_dir = darknet_dir+\"/celeba/labels\"\n",
    "\n",
    "def get_w_h(img_name):\n",
    "    img_path = darknet_dir+\"/celeba/JPEGImages/\" + img_name\n",
    "    img = cv2.imread(img_path)\n",
    "    shape = img.shape\n",
    "    return shape[1], shape[0]\n",
    "\n",
    "if not os.listdir(labels_dir):\n",
    "    with open(bbox_path) as f:\n",
    "        lines = f.readlines()\n",
    "        lines = lines[2:]\n",
    "\n",
    "        for line in lines:\n",
    "            items = line.strip().split()\n",
    "\n",
    "            img_name = items[0]\n",
    "            txt_name = img_name[:-3]+'txt'\n",
    "\n",
    "            with open(labels_dir+'/'+txt_name, \"w\") as tf:\n",
    "                x = int(items[1])\n",
    "                y = int(items[2])\n",
    "                w = int(items[3])\n",
    "                h = int(items[4])\n",
    "\n",
    "                (width, hight) = get_w_h(img_name)\n",
    "\n",
    "                txt = \"0 \" + str((x + w/2.0)/width) + \" \" + str((y + h/2.0)/hight) + \" \" + str(w/width) + \" \" + str(h/hight) + '\\n'\n",
    "\n",
    "                tf.write(txt)"
   ]
  },
  {
   "cell_type": "markdown",
   "metadata": {},
   "source": [
    "### 4.3.5 对CelebA数据集进行k-means聚类生成anchors\n",
    "\n",
    "cfg/yolov2-voc.cfg里面配置的anchors参数是根据VOC数据集生成的，但是我们现在使用的CelebA数据集，其anchors形状和VOC数据集有很大的差别，所以我们应该按照论文上说的，利用k-means算法来对CelebA数据集的bounding box进行聚类。\n",
    "\n",
    "    1，我们只对宽度和高度进行聚类\n",
    "    2，聚类的宽度和高度是labels/xxxx.txt里面的w和h\n",
    "    3，聚类的距离衡量为1 - IOU(box1, box2)\n",
    "    \n",
    "如果你了解k-means聚类算法的话，那有了上面的信息之后，就很容易实现了。这里我们的实现代码在get_anchors.py中，代码的实现参考了[git](https://github.com/PaulChongPeng/darknet/blob/master/tools/k_means_yolo.py)\n",
    "\n",
    "在运行下面的代码之前，你需要修改一下你的jupyter notebook配置文件，jupyter_notebook_config.py中的\n",
    "\n",
    "    c.NotebookApp.iopub_data_rate_limit = 1000000000\n",
    "    \n",
    "然后重启jupyter notebook，否则该函数无法执行的，会提示类似\"IOPub data rate exceeded.\"的信息"
   ]
  },
  {
   "cell_type": "code",
   "execution_count": 6,
   "metadata": {},
   "outputs": [
    {
     "name": "stdout",
     "output_type": "stream",
     "text": [
      "loss = 39788.821759\n",
      "3.4637721446716245 3.8679346530561665\n",
      "8.73415659151635 9.022065399147223\n",
      "6.080188536894121 6.1480227353803745\n",
      "4.113842273132601 7.792872622416254\n",
      "6.541522141266076 9.179386902279992\n",
      "loss = 38953.808750\n",
      "3.2991065539304754 3.6954213634430886\n",
      "8.817109040110527 9.154323420550664\n",
      "5.9872014994098 5.960682669134325\n",
      "4.066274321258748 7.387195653325293\n",
      "6.541282130373468 8.873798334661695\n",
      "loss = 38360.082647\n",
      "3.197700913252084 3.5745494419106625\n",
      "8.891012008313446 9.29318822282795\n",
      "5.868528600057385 5.779226694603637\n",
      "4.032055267547126 7.073906605696756\n",
      "6.631827973657741 8.499592481977592\n",
      "loss = 37600.301370\n",
      "3.122558972868223 3.4862240427194626\n",
      "8.976969534524468 9.496612084232558\n",
      "5.710369065963328 5.6068033967222695\n",
      "3.9789272162129485 6.88188984886138\n",
      "6.748434007214307 8.165315914741074\n",
      "loss = 36804.825333\n",
      "3.05961210890652 3.419794911354539\n",
      "9.025794540804332 9.676253227083276\n",
      "5.558136055981524 5.460715753207885\n",
      "3.923483211792653 6.817783675220201\n",
      "6.8102861448801955 7.957062648482604\n",
      "loss = 36350.582405\n",
      "3.0122471614793582 3.3751264478705516\n",
      "9.029853038250636 9.7604178627459\n",
      "5.447196932858763 5.351893703114512\n",
      "3.876072469587613 6.839616684252369\n",
      "6.818293299584541 7.850351442038771\n",
      "loss = 36165.389101\n",
      "2.973818321979558 3.3445780139292767\n",
      "9.017052990596879 9.769583460635658\n",
      "5.357775596168223 5.264137856673692\n",
      "3.8469712968271916 6.886376531254349\n",
      "6.796640359272396 7.775863202628791\n",
      "loss = 36069.126192\n",
      "2.9476086982163796 3.3302005318834325\n",
      "8.989811160677615 9.755607799506116\n",
      "5.286562541781132 5.194270487226642\n",
      "3.8361077139677517 6.951368046706161\n",
      "6.768824897746493 7.708360600879638\n",
      "loss = 35997.790964\n",
      "2.927966244423722 3.3224665026067397\n",
      "8.96004098909164 9.738774134433124\n",
      "5.235013936654815 5.139594009340335\n",
      "3.8370093300515618 7.008414955844605\n",
      "6.744845642055392 7.651482621807942\n",
      "loss = 35939.043036\n",
      "2.916074960771821 3.320608118445624\n",
      "8.928655625057411 9.722149784373805\n",
      "5.19358331419656 5.098179458154688\n",
      "3.844667545249685 7.054776483429944\n",
      "6.7246479374522 7.595347330050939\n",
      "loss = 35874.779687\n",
      "2.901693470648317 3.3179708308005003\n",
      "8.897370177134778 9.703925713826036\n",
      "5.127514115416165 5.0591193130060494\n",
      "3.8695658822800696 7.1966504162554905\n",
      "6.707718148996625 7.546411576658602\n",
      "loss = 35829.313265\n",
      "2.8859737255444418 3.31964813620019\n",
      "8.86783812763367 9.69189640005543\n",
      "5.08000666042255 5.026475746640546\n",
      "3.904824569750812 7.283650026804812\n",
      "6.703631590340439 7.483057415352824\n",
      "loss = 35774.266592\n",
      "2.8750942973673754 3.3214249735789934\n",
      "8.831379233028667 9.686426731529744\n",
      "5.049403822534518 5.000621749336284\n",
      "3.9308216731422894 7.349607082316712\n",
      "6.6974474411823675 7.424054715256084\n",
      "loss = 35728.893681\n",
      "2.8674065417827532 3.3239026636372397\n",
      "8.789965396642103 9.681144029458311\n",
      "5.021514752151447 4.977860409918361\n",
      "3.9553891927310874 7.400970822223068\n",
      "6.690056371225593 7.362930691358744\n",
      "loss = 35674.151418\n",
      "2.862235105645529 3.325756417250448\n",
      "8.736819347664952 9.681961308993769\n",
      "4.9985829120243395 4.960302291433215\n",
      "3.9740817052450046 7.443690010894977\n",
      "6.685703441602862 7.298792020139327\n",
      "loss = 35615.570917\n",
      "2.857662469552716 3.3269371225627657\n",
      "8.663888914455471 9.682130856620265\n",
      "4.9794348393651715 4.944000422990217\n",
      "3.9887223903832965 7.47829130909731\n",
      "6.682922519680873 7.227388578108215\n",
      "loss = 35552.855125\n",
      "2.8532451355908615 3.3280188639709487\n",
      "8.576428403146863 9.66881448921465\n",
      "4.963536602221784 4.929749878923403\n",
      "4.004547200335802 7.5090124896803845\n",
      "6.681455625328215 7.147023816768937\n",
      "loss = 35481.110763\n",
      "2.8490584407909454 3.3300208445354365\n",
      "8.488397324134606 9.646910618531797\n",
      "4.941712887614932 4.911590669134903\n",
      "4.022294134223706 7.539694926608663\n",
      "6.6794428967051696 7.05854138812394\n",
      "loss = 35415.541607\n",
      "2.839437417331979 3.3284050354907504\n",
      "8.44429853360329 9.607120845909606\n",
      "4.9105770143258205 4.8897176330046594\n",
      "4.03741166254641 7.5710385730833405\n",
      "6.657221785249771 6.999576028218585\n",
      "loss = 35378.063566\n",
      "2.829850737099656 3.3247257448269685\n",
      "8.422667073542451 9.57729259958392\n",
      "4.8860559447013605 4.869538479233098\n",
      "4.049823553814556 7.591229143329834\n",
      "6.636833755531698 6.961586999009912\n",
      "loss = 35360.256835\n",
      "2.8237565746470286 3.3204888767002303\n",
      "8.408341359169286 9.557043231693536\n",
      "4.866013601592649 4.853790658066999\n",
      "4.05608292194275 7.602874008042475\n",
      "6.620148484673301 6.932878736005113\n",
      "loss = 35346.253030\n",
      "2.819641308371981 3.317744999264316\n",
      "8.399811302756268 9.535118757488801\n",
      "4.849527435149946 4.840545136716503\n",
      "4.060219782282228 7.613203140226259\n",
      "6.601649671338684 6.907877743066538\n",
      "loss = 35333.033783\n",
      "2.816772209393842 3.3154408802244433\n",
      "8.391832624233833 9.520130429834094\n",
      "4.832598869246071 4.828539904445655\n",
      "4.062011636088636 7.6233212030501045\n",
      "6.586116886972247 6.885515292996927\n",
      "loss = 35325.670160\n",
      "2.813062619832905 3.3133074606065107\n",
      "8.38536079721546 9.510117634315488\n",
      "4.81974474938437 4.820203153602648\n",
      "4.0649841786151075 7.634254180288228\n",
      "6.575551893913765 6.871108893342489\n",
      "loss = 35324.039060\n",
      "2.810019617782253 3.3121666581596263\n",
      "8.381802195181418 9.502927677615897\n",
      "4.8098840371578175 4.814036196706522\n",
      "4.069069897591301 7.644004390029389\n",
      "6.568535090087918 6.860681422337675\n",
      "loss = 35323.799888\n",
      "2.8079662471260494 3.3115195696334085\n",
      "8.379892503134597 9.496927579314871\n",
      "4.802277195586461 4.8091089247953605\n",
      "4.072931838880459 7.653130865465466\n",
      "6.562458599082588 6.85230913884352\n",
      "loss = 35323.283766\n",
      "2.805369282633674 3.3102414075890283\n",
      "8.379060835587907 9.492734650147383\n",
      "4.793715116139371 4.8047173402498675\n",
      "4.07533395364169 7.6659710630505815\n",
      "6.556577153769869 6.844741149983615\n",
      "loss = 35324.777097\n",
      "2.8033327931156236 3.3083517993418665\n",
      "8.37730696697148 9.488821742979082\n",
      "4.786609939881461 4.80224149112119\n",
      "4.07818302450909 7.675821795842764\n",
      "6.553028145495148 6.8384013975348505\n",
      "loss = 35324.925900\n",
      "2.8014389230576513 3.3043667201047278\n",
      "8.37523086951784 9.485342788220045\n",
      "4.778478744525486 4.800535622904512\n",
      "4.079998280037081 7.682909162015687\n",
      "6.549605721006014 6.832460661523997\n",
      "loss = 35324.627138\n",
      "2.7997571086740876 3.300963389643356\n",
      "8.37396912896916 9.481877037739704\n",
      "4.77199755740967 4.799036159360142\n",
      "4.081170146801866 7.68944125453357\n",
      "6.5463910113602175 6.827498750352394\n",
      "loss = 35324.260671\n",
      "2.798285502536625 3.2996859141161803\n",
      "8.374183061288157 9.479712828439283\n",
      "4.764076067936988 4.796271532400807\n",
      "4.083808300048598 7.698839350825784\n",
      "6.542826809388854 6.82080415158091\n",
      "loss = 35325.598738\n",
      "2.7966307038182405 3.2984643271567995\n",
      "8.373504168949745 9.477244827072163\n",
      "4.757759688268543 4.793343730357745\n",
      "4.085905143069471 7.7060773272791145\n",
      "6.539758010209643 6.815282188354179\n",
      "loss = 35326.972707\n",
      "2.794227577342759 3.2967474296113206\n",
      "8.372247893577967 9.473436524939926\n",
      "4.751782808636329 4.79084183805743\n",
      "4.087634383126174 7.713920620616973\n",
      "6.536477599262219 6.809773664229182\n",
      "loss = 35328.491864\n",
      "2.7921048445320213 3.29594472823206\n",
      "8.370476701823605 9.470177328388274\n",
      "4.747479580177619 4.787547216473172\n",
      "4.088583051300464 7.717490111189877\n",
      "6.533167985873699 6.804982110493623\n",
      "loss = 35329.654380\n",
      "2.790635192680475 3.294892280858254\n",
      "8.369370549044035 9.46725142215487\n",
      "4.744303323464147 4.785088083426992\n",
      "4.089847195577144 7.719696203958412\n",
      "6.530676529371874 6.801408871709593\n",
      "loss = 35329.772603\n",
      "2.7898363285469063 3.294636775282194\n",
      "8.368615757202607 9.464938109604528\n",
      "4.741835668229007 4.783148594087455\n",
      "4.090816229552212 7.72166660809578\n",
      "6.528444249487951 6.798217389381905\n",
      "loss = 35329.739036\n",
      "2.7891966519454865 3.29458191096556\n",
      "8.367619168489124 9.463120349849646\n",
      "4.739651700830827 4.781561443535746\n",
      "4.091520184384332 7.7231214986925885\n",
      "6.526654078141614 6.7951980076207485\n",
      "loss = 35329.843764\n",
      "2.7886382007184904 3.294408378768508\n",
      "8.365608374497313 9.46054750690955\n",
      "4.738131086559666 4.780419627609154\n",
      "4.091955873588256 7.724191578023552\n",
      "6.524775384448282 6.7921895845548965\n",
      "loss = 35329.085337\n",
      "2.788355683590545 3.294082870495967\n",
      "8.36442348475187 9.45832886666302\n",
      "4.7368839420122155 4.779647362405352\n",
      "4.092396234047973 7.725046230941597\n",
      "6.52334199326743 6.78989496198936\n",
      "loss = 35328.189651\n",
      "2.788091584650069 3.2939518485541686\n",
      "8.363813147012012 9.457050802513217\n",
      "4.736127786566538 4.778900861751084\n",
      "4.092788740008992 7.725492588930388\n",
      "6.522479312090928 6.788460440431362\n",
      "loss = 35327.869682\n",
      "2.787685829240388 3.2937604065978334\n",
      "8.362930348199308 9.456103740517754\n",
      "4.735466239917395 4.778367731640648\n",
      "4.092983197498356 7.72573818697754\n",
      "6.521883144318762 6.787318231296549\n"
     ]
    },
    {
     "name": "stdout",
     "output_type": "stream",
     "text": [
      "loss = 35327.813976\n",
      "2.787484540277099 3.2935793774066107\n",
      "8.36248978076916 9.45570296672632\n",
      "4.734864241392878 4.777852282236217\n",
      "4.093138297460683 7.725834044261242\n",
      "6.5214548888766695 6.786420975193014\n",
      "loss = 35327.750527\n",
      "2.7869930746829477 3.293332335529356\n",
      "8.362305212371655 9.455169595586172\n",
      "4.734233218093106 4.777248404620133\n",
      "4.093138297460683 7.725834044261242\n",
      "6.521020231216437 6.785985807378822\n",
      "loss = 35328.212875\n",
      "2.7866418032752738 3.2930224416501384\n",
      "8.362105562701284 9.454923456642689\n",
      "4.733499968778213 4.776679652050687\n",
      "4.093138297460683 7.725834044261242\n",
      "6.52063816866452 6.785417450941143\n",
      "loss = 35328.510257\n",
      "2.7865568745564953 3.292849891827666\n",
      "8.36181716787083 9.454575872160273\n",
      "4.7330693609903705 4.77647194727314\n",
      "4.093018056303678 7.72580526477201\n",
      "6.520365541444134 6.7848619446726675\n",
      "loss = 35328.349812\n",
      "2.786411867325823 3.2927461688577755\n",
      "8.361623662463577 9.453914848666454\n",
      "4.732800427981239 4.776333954205533\n",
      "4.093107793387856 7.726001677786344\n",
      "6.520004924326265 6.7845007985106776\n",
      "loss = 35328.229367\n",
      "2.7863738644069596 3.2927348907210052\n",
      "8.361532803957934 9.453869018959054\n",
      "4.732675850657335 4.776245631635649\n",
      "4.093162698352732 7.726113096992068\n",
      "6.519919909029315 6.784351500167293\n",
      "loss = 35328.259955\n",
      "2.7862853955213884 3.292723268753044\n",
      "8.361501430940226 9.453829205985596\n",
      "4.732615719504277 4.776152845076072\n",
      "4.093269500795105 7.726297442237875\n",
      "6.519898593064435 6.784202981177675\n",
      "loss = 35328.355857\n",
      "2.7862853955213884 3.292723268753044\n",
      "8.361468063915074 9.453791630814198\n",
      "4.732615719504277 4.776152845076072\n",
      "4.093269500795105 7.726297442237875\n",
      "6.5198827964778925 6.784171931615374\n",
      "loss = 35328.329464\n",
      "2.7862853955213884 3.292723268753044\n",
      "8.36143691435473 9.453608504071548\n",
      "4.732615719504277 4.776152845076072\n",
      "4.093269500795105 7.726297442237875\n",
      "6.519783340155702 6.784131950731516\n",
      "loss = 35328.246904\n",
      "2.7862853955213884 3.292723268753044\n",
      "8.36143691435473 9.453608504071548\n",
      "4.7326072484294635 4.776111282311781\n",
      "4.093221844851152 7.726369378498932\n",
      "6.519714435094246 6.784114312797302\n",
      "loss = 35328.254759\n",
      "2.7862853955213884 3.292723268753044\n",
      "8.36143691435473 9.453608504071548\n",
      "4.7325616695240225 4.776060087709764\n",
      "4.093174332687478 7.726438781059366\n",
      "6.519635504289323 6.7840606807421695\n",
      "loss = 35328.264333\n",
      "2.786247627268286 3.2927117763175433\n",
      "8.361419485110419 9.453554156430833\n",
      "4.732539954955381 4.776028783480308\n",
      "4.093174332687478 7.726438781059366\n",
      "6.51960767132462 6.784042302550022\n",
      "loss = 35328.295094\n",
      "2.786247627268286 3.2927117763175433\n",
      "8.361419485110419 9.453554156430833\n",
      "4.732539954955381 4.776028783480308\n",
      "4.093174332687478 7.726438781059366\n",
      "6.51960767132462 6.784042302550022\n",
      "loss = 35328.295094\n",
      "k-means result：\n",
      "\n",
      "2.786247627268286 3.2927117763175433\n",
      "k-means result：\n",
      "\n",
      "8.361419485110419 9.453554156430833\n",
      "k-means result：\n",
      "\n",
      "4.732539954955381 4.776028783480308\n",
      "k-means result：\n",
      "\n",
      "4.093174332687478 7.726438781059366\n",
      "k-means result：\n",
      "\n",
      "6.51960767132462 6.784042302550022\n"
     ]
    }
   ],
   "source": [
    "from get_anchors import compute_centroids\n",
    "\n",
    "\"\"\"\n",
    "    label_path: include images path\n",
    "    n_anchors:anchors num\n",
    "    loss_convergence:stop iteration when loss < loss_convergence\n",
    "    grid_size:model ouput grid size\n",
    "    iterations_num:maximun iteration num\n",
    "    plus:whether using k-mean++\n",
    "\"\"\"\n",
    "compute_centroids(label_path=train_txt, n_anchors=5, loss_convergence=1e-6, grid_size=13, iterations_num=100, plus=0)"
   ]
  },
  {
   "cell_type": "markdown",
   "metadata": {},
   "source": [
    "现在咱们就把cfg/yolov2-celeba.cfg的anchors参数改为上面输出的5对值。\n",
    "\n",
    "\n",
    "    anchors = 2.78625 3.29271 8.36142 9.45355 4.73254 4.77603 4.09317 7.72644 6.51961 6.78404"
   ]
  },
  {
   "cell_type": "markdown",
   "metadata": {},
   "source": [
    "## 4.4 创建数据集配置文件\n",
    "\n",
    "接下来我们要模型voc数据集的配置文件cfg/voc.data来创建一个我们自己的数据集配置文件cfg/celeba.data。\n",
    "\n",
    "    classes= 1\n",
    "    train  = celeba/train.txt\n",
    "    valid  = celeba/val.txt\n",
    "    names = data/celeba.names\n",
    "    backup = backup\n",
    "    \n",
    "我们在4.3.1节中留了一个问题，就是为什么需要那样来建立存放数据集的文件夹？这里来解释一下。\n",
    "\n",
    "我们知道，在训练的时候，我会把cfg/celeba.data文件以参数的形式传递给darknet，这样darknet才知道训练集和验证集的文件在哪里。但是又一个问题，我们并没有告诉darknet labels文件夹在哪个路径，darknet是怎么找到一张图片相应labels文件呢？\n",
    "\n",
    "其实，我也是看了源码才知道的，在darknet源码的data.c的220行，有这样一个函数调用\n",
    "\n",
    "    find_replace(labelpath, \"JPEGImages\", \"labels\", labelpath);\n",
    "\n",
    "然后接着又有一个这样的函数调用\n",
    "\n",
    "    find_replace(labelpath, \".jpg\", \".txt\", labelpath);\n",
    "\n",
    "其实这两个函数就是在利用图片的路径来得到图片对应的labels文件的路径，怎么做的呢？加入图片路径labelpath = \"darknet/celeba/JPEGImages/000001.jpg\",那么第一个函数调用就是将labelpath路径里面的\"JPEGImages\"字符串替换为\"labels\"字符串，那么此时labelpath就变成了\"darknet/celeba/labels/000001.jpg\"。紧接着第二个函数调用将labelpath路径里面的\".jpg\"替换为\".txt\"字符串，此时labelpath就变成了\"darknet/celeba/labels/000001.txt\"，这不就是000001.jpg图片对应的label文件么。\n",
    "\n",
    "所以darknet就是这样来得到label的txt文件的，所以我们需要做的就是在JPEGImages文件夹里面放图片，在labels文件夹里面放bounding box信息，而且JPEGImages和labels文件夹要处于同一目录下，这样darknet就可以找到所有它需要的东西了"
   ]
  },
  {
   "cell_type": "markdown",
   "metadata": {},
   "source": [
    "## 4.5 开始训练\n",
    "\n",
    "废话不多说，直接运行脚本\n",
    "\n",
    "./darknet detector train cfg/celeba.data cfg/yolov2-celeba.cfg darknet19_448.conv.23\n",
    "\n",
    "这里我推荐一个[教程](https://github.com/AlexeyAB/darknet/tree/47c7af1cea5bbdedf1184963355e6418cb8b1b4f#how-to-train-pascal-voc-data)，这个教程介绍了如何训练YOLO，以及什么时候结束训练，介绍得非常好。"
   ]
  }
 ],
 "metadata": {
  "kernelspec": {
   "display_name": "Python 3",
   "language": "python",
   "name": "python3"
  },
  "language_info": {
   "codemirror_mode": {
    "name": "ipython",
    "version": 3
   },
   "file_extension": ".py",
   "mimetype": "text/x-python",
   "name": "python",
   "nbconvert_exporter": "python",
   "pygments_lexer": "ipython3",
   "version": "3.6.4"
  }
 },
 "nbformat": 4,
 "nbformat_minor": 2
}
